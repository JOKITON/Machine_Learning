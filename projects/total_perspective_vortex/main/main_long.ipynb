{
 "cells": [
  {
   "cell_type": "code",
   "execution_count": null,
   "metadata": {},
   "outputs": [],
   "source": [
    "import numpy as np\n",
    "from pathlib import Path\n",
    "import matplotlib.pyplot as plt\n",
    "from ipywidgets import interact\n",
    "\n",
    "# from conc_obj import EEGData\n",
    "from eegdata_multi import EEGData\n",
    "from utils.plt import plot_psd, plot_montage\n",
    "from utils.ica import plot_ica_comp\n",
    "\n",
    "# MNE imports\n",
    "import mne\n",
    "from mne.io.edf import read_raw_edf\n",
    "from mne.datasets import eegbci\n",
    "\n",
    "from sklearn.pipeline import Pipeline\n",
    "from sklearn.preprocessing import StandardScaler\n",
    "from sklearn.decomposition import PCA\n",
    "from sklearn.svm import SVC\n",
    "from sklearn.model_selection import cross_val_score\n",
    "\n",
    "import json\n"
   ]
  },
  {
   "cell_type": "markdown",
   "metadata": {},
   "source": [
    "***Macros***\n",
    "\n",
    ">General use macros, importing JSON files to use as the configuration files"
   ]
  },
  {
   "cell_type": "code",
   "execution_count": null,
   "metadata": {},
   "outputs": [],
   "source": [
    "script_path = Path().resolve()\n",
    "folder = (script_path / \"../\").resolve()\n",
    "\n",
    "JSON_MAIN_PATH = script_path / \"config/config_main.json\"\n",
    "JSON_CSP_PATH = script_path / \"config/config_csp.json\"\n",
    "JSON_GRID_PATH = script_path / \"config/config_grid.json\"\n",
    "EVENTS_PATH = script_path / \"config/events.json\"\n",
    "\n",
    "with open(JSON_MAIN_PATH, \"r\") as f:\n",
    "    config_main = json.load(f)\n",
    "\n",
    "with open(JSON_CSP_PATH, \"r\") as f:\n",
    "    config_csp = json.load(f)\n",
    "\n",
    "VERBOSE = config_main['verbose'].lower() == 'true'\n",
    "\n",
    "L_FREQ = config_main['l_freq']\n",
    "H_FREQ = config_main['h_freq']\n",
    "\n",
    "N_SUBJECTS = config_main[\"n_subjects\"]\n",
    "N_COMPONENTS = config_main[\"n_components\"]\n"
   ]
  },
  {
   "cell_type": "markdown",
   "metadata": {},
   "source": [
    "***Initialization of EEG object***\n",
    "\n",
    ">***(If the files are not locally stored, it will download them to the user system automatically)***\n",
    "\n",
    ">***Use of functions like .filter_data() also is obligatory if there is no data stored locally***"
   ]
  },
  {
   "cell_type": "code",
   "execution_count": null,
   "metadata": {},
   "outputs": [],
   "source": [
    "eeg_obj = EEGData(config_main, config_csp, folder, verbose=VERBOSE)\n",
    "# eeg_obj.save_type_data(type=\"events\", folder_path=folder, verbose=VERBOSE)\n",
    "\n",
    "#* Filters data and plots PSD to see differences\n",
    "# eeg_obj.filter_data()\n",
    "# eeg_obj.plot_psd_ba_filt(verbose=VERBOSE)"
   ]
  },
  {
   "cell_type": "markdown",
   "metadata": {},
   "source": [
    "**Basic information and montage plotting in 2D & 3D**\n",
    "> ***The channel names can also be printed***"
   ]
  },
  {
   "cell_type": "code",
   "execution_count": null,
   "metadata": {},
   "outputs": [],
   "source": [
    "\n",
    "#* Plots different montages in 2D & 3D\n",
    "# data = eeg_obj.get_raw_h()\n",
    "\n",
    "# ch_names = data.info[\"ch_names\"] \n",
    "\n",
    "# plot_montage(eeg_obj.montage, ch_names)"
   ]
  },
  {
   "cell_type": "markdown",
   "metadata": {},
   "source": [
    "**ICA(Independent Component Analysys)**\n",
    "> ***The number of components that ICA will try to sort out can be changed, it is advised to use values in the range [16-64]***\n",
    "\n",
    "> ***Ocular artifacts are also removed, since they don't contribute to the muscular movement on this evaluation***\n",
    "\n",
    "> ***The components can also be plotted and ocular artifacts, EOG, will be clearly visible***"
   ]
  },
  {
   "cell_type": "code",
   "execution_count": null,
   "metadata": {},
   "outputs": [],
   "source": [
    "\n",
    "#* Computes ICA components ( If loaded locally do not use! )\n",
    "# eeg_obj.decomp_ica(n_components=N_COMPONENTS, plt_show=True, verbose=VERBOSE)\n",
    "\n",
    "#* Plot components of ICA\n",
    "# plot_ica_comp(folder / config_main[\"path_ica_h\"])"
   ]
  },
  {
   "cell_type": "markdown",
   "metadata": {},
   "source": [
    "**Specify events & create Epochs**\n",
    "> ***The events used along with the JSON configuration will be crucial for the ML algorimths to work properly***\n"
   ]
  },
  {
   "cell_type": "code",
   "execution_count": null,
   "metadata": {},
   "outputs": [],
   "source": [
    "\n",
    "#* Loads cleaned data and events\n",
    "data_h, data_hf = eeg_obj.get_clean()\n",
    "events_h, events_hf = eeg_obj.get_events()\n",
    "\n",
    "#* Creates epochs and frequency bands\n",
    "ev_list = config_csp[\"ev_mlist_one\"]\n",
    "epochs, freq_bands = eeg_obj.crt_epochs(data_h, events_h, ev_list, \"hands\", verbose=VERBOSE)\n",
    "\n",
    "print()\n",
    "epochs_data = epochs.get_data()\n",
    "labels = epochs.events[:, -1]\n",
    "print()\n"
   ]
  },
  {
   "cell_type": "markdown",
   "metadata": {},
   "source": [
    "**Normalize and apply PCA(Principal Component Analysis)**\n",
    "> ***Faster computation, training, testing, ...***\n",
    "\n",
    "> ***Reduces the risk of over-fitting***\n",
    "\n",
    "> ***Improves the accuracy of classification ML algorimths***"
   ]
  },
  {
   "cell_type": "code",
   "execution_count": null,
   "metadata": {},
   "outputs": [],
   "source": [
    "#* Normalizes data\n",
    "features_norm = eeg_obj.normalize(epochs_data)\n",
    "\n",
    "#* Reduce dimensionality (PCA)\n",
    "features_pca = eeg_obj.pca(features_norm)"
   ]
  },
  {
   "cell_type": "code",
   "execution_count": null,
   "metadata": {},
   "outputs": [],
   "source": [
    "\n",
    "features, csp = eeg_obj.csp(features_pca, labels, freq_bands, verbose=VERBOSE)\n",
    "\n",
    "#* Only use plot_patters if you are not using PCA before\n",
    "# csp.plot_patterns(epochs.info, ch_type=\"eeg\", units=\"Patterns (AU)\", size=1.5)\n",
    "\n",
    "#* Displays the performance of CSP along classifiers through a timeline\n",
    "# eeg_obj.csp_performance(epochs, labels, clf_type='svm', verbose=False)\n",
    "\n",
    "#* Two step CSP\n",
    "# features, labels = eeg_obj.two_step_csp(epochs1, epochs2, freq_bands, verbose=VERBOSE)\n",
    "\n",
    "#* Verify any shape\n",
    "print(\"Shape after CSP:\", features.shape)"
   ]
  },
  {
   "cell_type": "markdown",
   "metadata": {},
   "source": [
    "***GridSearch - Parameter selection***\n",
    "\n",
    ">Exhaustive search over specified parameter values for an estimator.\n",
    "\n",
    ">The default values have been tested. Performance varies from event type selection."
   ]
  },
  {
   "cell_type": "code",
   "execution_count": null,
   "metadata": {},
   "outputs": [],
   "source": [
    "from utils.gridsearch import grid_finder, grid_search\n",
    "\n",
    "# grid = grid_finder(json_grid, 'svm', 'wide')\n",
    "# print(grid)\n",
    "# grid_search(data, labels, pipeline, grid)"
   ]
  },
  {
   "cell_type": "code",
   "execution_count": null,
   "metadata": {},
   "outputs": [],
   "source": [
    "from utils.pipeline import crt_pipeline\n",
    "\n",
    "pipeline = crt_pipeline(clf=True, voting='soft')\n",
    "\n",
    "#* Trains and evaluates model\n",
    "scores = eeg_obj.cross_val(features, labels, pipeline, n_splits=7)\n",
    "print(\"Mean score:\", np.mean(scores))"
   ]
  },
  {
   "cell_type": "code",
   "execution_count": null,
   "metadata": {},
   "outputs": [],
   "source": [
    "#* Saves filtered and concatenated data for faster loading\n",
    "# eeg_obj.save_type_data(type=\"raw\", folder_path=folder)\n",
    "# eeg_obj.save_type_data(type=\"filtered\", folder_path=folder)\n",
    "# eeg_obj.save_type_data(type=\"ica\", folder_path=folder)\n",
    "# eeg_obj.save_type_data(type=\"clean\", folder_path=folder)\n",
    "# eeg_obj.save_type_data(type=\"epochs\", folder_path=folder)"
   ]
  }
 ],
 "metadata": {
  "kernelspec": {
   "display_name": ".venv",
   "language": "python",
   "name": "python3"
  },
  "language_info": {
   "codemirror_mode": {
    "name": "ipython",
    "version": 3
   },
   "file_extension": ".py",
   "mimetype": "text/x-python",
   "name": "python",
   "nbconvert_exporter": "python",
   "pygments_lexer": "ipython3",
   "version": "3.12.9"
  }
 },
 "nbformat": 4,
 "nbformat_minor": 2
}
